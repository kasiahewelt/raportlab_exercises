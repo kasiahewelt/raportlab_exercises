{
 "cells": [
  {
   "cell_type": "code",
   "execution_count": 1,
   "metadata": {
    "collapsed": true
   },
   "outputs": [],
   "source": [
    "import pandas as pd\n",
    "import re\n",
    "import os\n",
    "from unicodedata import normalize\n",
    "from bs4 import BeautifulSoup"
   ]
  },
  {
   "cell_type": "code",
   "execution_count": 2,
   "outputs": [],
   "source": [
    "input_1 = ''\n",
    "input_2 = '4000 do 5000 PLN'\n",
    "input_3 = '5.000 - 6.000 zł'\n",
    "input_4 = 'from 10 000 to 15 000 PLN'\n"
   ],
   "metadata": {
    "collapsed": false
   }
  },
  {
   "cell_type": "code",
   "execution_count": 3,
   "outputs": [],
   "source": [
    "def parse_salary(salary) -> dict:\n",
    "    salary = normalize('NFKD', salary) #znaki diakrytycznymi/ specjalne - zeby czytalo\n",
    "    bounds = re.findall('[0-9]+', salary.replace(' ', ''))\n",
    "    low_bound = bounds[0] if bounds else None\n",
    "    high_bound = bounds[1] if len(bounds) > 1 else low_bound\n",
    "    currency = salary.split()[-1] if salary.split() else None\n",
    "\n",
    "    return {'low': low_bound,\n",
    "            'high': high_bound,\n",
    "            'currency': currency}"
   ],
   "metadata": {
    "collapsed": false
   }
  },
  {
   "cell_type": "code",
   "execution_count": 4,
   "outputs": [
    {
     "data": {
      "text/plain": "{'low': '4000', 'high': '5000', 'currency': 'PLN'}"
     },
     "execution_count": 4,
     "metadata": {},
     "output_type": "execute_result"
    }
   ],
   "source": [
    "parse_salary(input_2)"
   ],
   "metadata": {
    "collapsed": false
   }
  },
  {
   "cell_type": "code",
   "execution_count": 5,
   "outputs": [],
   "source": [
    "def parse_city(city) -> dict:\n",
    "    if re.search('(Zdalnie)', city):\n",
    "         _city = \"Zdalna\",\n",
    "    else:\n",
    "        _city = city\n",
    "\n",
    "    return {'city': _city}"
   ],
   "metadata": {
    "collapsed": false
   }
  },
  {
   "cell_type": "code",
   "execution_count": 6,
   "outputs": [
    {
     "data": {
      "text/plain": "{'city': ('Zdalna',)}"
     },
     "execution_count": 6,
     "metadata": {},
     "output_type": "execute_result"
    }
   ],
   "source": [
    "parse_city(\"Zdalnie\")"
   ],
   "metadata": {
    "collapsed": false
   }
  },
  {
   "cell_type": "code",
   "execution_count": 7,
   "outputs": [],
   "source": [
    "def parse_jobs(jobs) -> list:\n",
    "    results = []\n",
    "\n",
    "    for job in jobs:\n",
    "        results.append(parse_job(job))\n",
    "\n",
    "    return results"
   ],
   "metadata": {
    "collapsed": false
   }
  },
  {
   "cell_type": "code",
   "execution_count": 8,
   "outputs": [
    {
     "name": "stdout",
     "output_type": "stream",
     "text": [
      "20 000  – 25 000  PLN\n",
      "Zdalnie\n",
      "Mid Data Engineer\n",
      "Acaisoft Poland Sp. z.o.o\n",
      "Python\n"
     ]
    }
   ],
   "source": [
    "# ZANIM OPAKUJEMY W FUNKCJE\n",
    "\n",
    "with open('../data/raw/data engineer_3.html', 'r', encoding='utf-8') as f:\n",
    "    page_html = f.read()\n",
    "\n",
    "page = BeautifulSoup(page_html, 'html.parser')\n",
    "salary = page.find(class_='text-truncate badgy salary tw-btn tw-btn-secondary-outline tw-btn-xs ng-star-inserted')\n",
    "salary_range = salary.text.strip()\n",
    "print(salary_range)\n",
    "\n",
    "location = page.find('nfj-posting-item-city')\n",
    "if location is None:\n",
    "    location = 'Not listed'\n",
    "else:\n",
    "    location = location.find('span')\n",
    "    location = location.text.strip()\n",
    "# location = parse_city(location)\n",
    "print(location)\n",
    "\n",
    "name = page.find('h3', class_='posting-title__position').text.strip()\n",
    "print(name)\n",
    "\n",
    "company = page.find('span', class_='d-block')\n",
    "company = company.text.strip() if company else \"Unknown\"\n",
    "print(company)\n",
    "\n",
    "technology = page.find('common-posting-item-tag', class_='tw-btn-secondary-outline')\n",
    "technology = technology.find('a', class_='ng-star-inserted').text.strip() if technology else 'N/A'\n",
    "\n",
    "print(technology)"
   ],
   "metadata": {
    "collapsed": false
   }
  },
  {
   "cell_type": "code",
   "execution_count": 9,
   "outputs": [],
   "source": [
    "def parse_job(job) -> dict:\n",
    "\n",
    "    salary = job.find(class_='text-truncate badgy salary tw-btn tw-btn-secondary-outline tw-btn-xs ng-star-inserted')\n",
    "    salary_range = salary.text.strip() if salary else None\n",
    "    salary_data = parse_salary(salary_range)\n",
    "\n",
    "    location = job.find('nfj-posting-item-city')\n",
    "    if location is None:\n",
    "        location = 'Not listed'\n",
    "    else:\n",
    "        location = location.find('span')\n",
    "        location = location.text.strip()\n",
    "    location = parse_city(location)\n",
    "\n",
    "    name = job.find('h3', class_='posting-title__position').text.strip()\n",
    "\n",
    "    company = job.find('span', class_='d-block')\n",
    "    company = company.text.strip() if company else \"Unknown\"\n",
    "\n",
    "    technology = job.find('common-posting-item-tag', class_='tw-btn-secondary-outline')\n",
    "    technology = technology.find('a', class_='ng-star-inserted').text.strip() if technology else 'N/A'\n",
    "\n",
    "    return {\n",
    "        'location': location,\n",
    "        'salary': salary_data,\n",
    "        'name': name,\n",
    "        'company': company,\n",
    "        'technology': technology\n",
    "    }"
   ],
   "metadata": {
    "collapsed": false
   }
  },
  {
   "cell_type": "code",
   "execution_count": 10,
   "outputs": [],
   "source": [
    "def get_data(page) -> list:\n",
    "    results = []\n",
    "# Wywołanie x.parent zwraca rodzica (bezpośredniego nadrzędnego elementu) dla tego elementu.\n",
    "    jobs = [x.parent for x in page.find_all('div', class_='posting-image')]\n",
    "    page_data = parse_jobs(jobs)\n",
    "    results += page_data\n",
    "\n",
    "    return results"
   ],
   "metadata": {
    "collapsed": false
   }
  },
  {
   "cell_type": "code",
   "execution_count": 12,
   "outputs": [
    {
     "name": "stdout",
     "output_type": "stream",
     "text": [
      "[{'location': {'city': 'Warszawa'}, 'salary': {'low': '12000', 'high': '19000', 'currency': 'PLN'}, 'name': 'Data Engineer', 'company': 'Ramp Network', 'technology': 'BigQuery'}, {'location': {'city': ('Zdalna',)}, 'salary': {'low': '26000', 'high': '31000', 'currency': 'PLN'}, 'name': 'Senior Data Engineer', 'company': 'Acaisoft Poland Sp. z.o.o', 'technology': 'Python'}, {'location': {'city': ('Zdalna',)}, 'salary': {'low': '18000', 'high': '30000', 'currency': 'PLN'}, 'name': 'Big Data Engineering Tech Lead', 'company': 'P2 Recruitment', 'technology': 'Python'}, {'location': {'city': ('Zdalna',)}, 'salary': {'low': '20000', 'high': '32000', 'currency': 'PLN'}, 'name': 'Remote - Senior Azure Data Engineer', 'company': 'Infosys Consulting', 'technology': 'Azure'}, {'location': {'city': 'Warszawa'}, 'salary': {'low': '26880', 'high': '34440', 'currency': 'PLN'}, 'name': 'Databricks Data Engineer with Python', 'company': 'AXA IT Solutions', 'technology': 'Python'}, {'location': {'city': 'Poznań'}, 'salary': {'low': '16100', 'high': '23200', 'currency': 'PLN'}, 'name': 'Senior Big Data Engineer - Data & AI', 'company': 'Allegro', 'technology': 'Scala'}, {'location': {'city': 'Warszawa'}, 'salary': {'low': '20000', 'high': '26000', 'currency': 'PLN'}, 'name': 'Senior Data Engineer (Golang)', 'company': 'Bayer Sp. z o.o.', 'technology': 'Golang'}, {'location': {'city': ('Zdalna',)}, 'salary': {'low': '23500', 'high': '28500', 'currency': 'PLN'}, 'name': 'Senior Data Engineer (Kafka)', 'company': 'Sigma IT Poland', 'technology': 'Python'}, {'location': {'city': 'Poznań'}, 'salary': {'low': '16000', 'high': '21000', 'currency': 'PLN'}, 'name': 'Data Engineer', 'company': 'Roche', 'technology': 'Python'}, {'location': {'city': ('Zdalna',)}, 'salary': {'low': '22000', 'high': '26880', 'currency': 'PLN'}, 'name': 'Data Engineer with Python', 'company': 'Sigma IT Poland', 'technology': 'Python'}, {'location': {'city': ('Zdalna',)}, 'salary': {'low': '18480', 'high': '26880', 'currency': 'PLN'}, 'name': 'Data Engineer with Scala', 'company': 'GFT Poland', 'technology': 'Scala'}, {'location': {'city': ('Zdalna',)}, 'salary': {'low': '18000', 'high': '25000', 'currency': 'PLN'}, 'name': 'Junior/Mid Data Engineer (Biotech)', 'company': 'Sigma IT Poland', 'technology': 'Python'}, {'location': {'city': 'Kraków'}, 'salary': {'low': '20000', 'high': '26000', 'currency': 'PLN'}, 'name': 'Data Scientist / Data Engineer', 'company': 'vonRoll Infratec.com', 'technology': 'Python'}, {'location': {'city': 'Warszawa'}, 'salary': {'low': '12300', 'high': '17600', 'currency': 'PLN'}, 'name': 'Data Engineer (Allegro Pay)', 'company': 'Allegro', 'technology': 'N/A'}, {'location': {'city': ('Zdalna',)}, 'salary': {'low': '16666', 'high': '29166', 'currency': 'PLN'}, 'name': 'Senior Performance Engineer', 'company': 'Cribl', 'technology': 'JavaScript'}, {'location': {'city': ('Zdalna',)}, 'salary': {'low': '24000', 'high': '30000', 'currency': 'PLN'}, 'name': 'Remote Mid/Senior Data Engineer', 'company': 'CSHARK Sp. z o.o.', 'technology': 'Python'}, {'location': {'city': 'Warszawa'}, 'salary': {'low': '17136', 'high': '25200', 'currency': 'PLN'}, 'name': 'Software Engineer -Data Platforms', 'company': 'Adform Sp. z o.o.', 'technology': 'Scala'}, {'location': {'city': ('Zdalna',)}, 'salary': {'low': '10000', 'high': '14000', 'currency': 'PLN'}, 'name': 'Remote Mid Data Engineer', 'company': 'Operator Chmury Krajowej', 'technology': 'SQL'}, {'location': {'city': 'Warszawa'}, 'salary': {'low': '17136', 'high': '25200', 'currency': 'PLN'}, 'name': 'Software Engineer (Big Data)', 'company': 'Adform Sp. z o.o.', 'technology': 'Scala'}, {'location': {'city': ('Zdalna',)}, 'salary': {'low': '21000', 'high': '37000', 'currency': 'PLN'}, 'name': 'Big Data Engineer', 'company': 'Grid Dynamics', 'technology': 'Scala'}]\n"
     ]
    }
   ],
   "source": [
    "# przyklad\n",
    "with open('../data/raw/data engineer_1.html', 'r', encoding='utf-8') as f:\n",
    "    page_html = f.read()\n",
    "\n",
    "page = BeautifulSoup(page_html, 'html.parser')\n",
    "\n",
    "results = get_data(page)\n",
    "print(results)\n"
   ],
   "metadata": {
    "collapsed": false
   }
  },
  {
   "cell_type": "code",
   "execution_count": null,
   "outputs": [],
   "source": [
    "data_dir = '../data/raw'\n",
    "results = []\n",
    "\n",
    "for entry in os.scandir(data_dir):\n",
    "    with open(\n",
    "        os.path.join(data_dir, entry.name),\n",
    "        encoding='UTF-8') as f:\n",
    "            html = f.read()\n",
    "\n",
    "    job = entry.name.split('_')[0]\n",
    "    bs = BeautifulSoup(html)\n",
    "\n",
    "    offers = get_data(bs)\n",
    "    for offer in offers:\n",
    "        offer['job'] = job\n",
    "    results += offers"
   ],
   "metadata": {
    "collapsed": false
   }
  },
  {
   "cell_type": "code",
   "execution_count": 13,
   "outputs": [
    {
     "data": {
      "text/plain": "                                   name                    company technology  \\\n0                         Data Engineer               Ramp Network   BigQuery   \n1                  Senior Data Engineer  Acaisoft Poland Sp. z.o.o     Python   \n2        Big Data Engineering Tech Lead             P2 Recruitment     Python   \n3   Remote - Senior Azure Data Engineer         Infosys Consulting      Azure   \n4  Databricks Data Engineer with Python           AXA IT Solutions     Python   \n\n  location_city salary_low salary_high salary_currency  \n0      Warszawa      12000       19000             PLN  \n1     (Zdalna,)      26000       31000             PLN  \n2     (Zdalna,)      18000       30000             PLN  \n3     (Zdalna,)      20000       32000             PLN  \n4      Warszawa      26880       34440             PLN  ",
      "text/html": "<div>\n<style scoped>\n    .dataframe tbody tr th:only-of-type {\n        vertical-align: middle;\n    }\n\n    .dataframe tbody tr th {\n        vertical-align: top;\n    }\n\n    .dataframe thead th {\n        text-align: right;\n    }\n</style>\n<table border=\"1\" class=\"dataframe\">\n  <thead>\n    <tr style=\"text-align: right;\">\n      <th></th>\n      <th>name</th>\n      <th>company</th>\n      <th>technology</th>\n      <th>location_city</th>\n      <th>salary_low</th>\n      <th>salary_high</th>\n      <th>salary_currency</th>\n    </tr>\n  </thead>\n  <tbody>\n    <tr>\n      <th>0</th>\n      <td>Data Engineer</td>\n      <td>Ramp Network</td>\n      <td>BigQuery</td>\n      <td>Warszawa</td>\n      <td>12000</td>\n      <td>19000</td>\n      <td>PLN</td>\n    </tr>\n    <tr>\n      <th>1</th>\n      <td>Senior Data Engineer</td>\n      <td>Acaisoft Poland Sp. z.o.o</td>\n      <td>Python</td>\n      <td>(Zdalna,)</td>\n      <td>26000</td>\n      <td>31000</td>\n      <td>PLN</td>\n    </tr>\n    <tr>\n      <th>2</th>\n      <td>Big Data Engineering Tech Lead</td>\n      <td>P2 Recruitment</td>\n      <td>Python</td>\n      <td>(Zdalna,)</td>\n      <td>18000</td>\n      <td>30000</td>\n      <td>PLN</td>\n    </tr>\n    <tr>\n      <th>3</th>\n      <td>Remote - Senior Azure Data Engineer</td>\n      <td>Infosys Consulting</td>\n      <td>Azure</td>\n      <td>(Zdalna,)</td>\n      <td>20000</td>\n      <td>32000</td>\n      <td>PLN</td>\n    </tr>\n    <tr>\n      <th>4</th>\n      <td>Databricks Data Engineer with Python</td>\n      <td>AXA IT Solutions</td>\n      <td>Python</td>\n      <td>Warszawa</td>\n      <td>26880</td>\n      <td>34440</td>\n      <td>PLN</td>\n    </tr>\n  </tbody>\n</table>\n</div>"
     },
     "execution_count": 13,
     "metadata": {},
     "output_type": "execute_result"
    }
   ],
   "source": [
    "df = pd.json_normalize(results, sep='_')\n",
    "df.head()"
   ],
   "metadata": {
    "collapsed": false
   }
  },
  {
   "cell_type": "code",
   "execution_count": 15,
   "outputs": [],
   "source": [
    "import datetime\n",
    "# df.to_csv('../data/interim/job_offers.csv', sep=';', encoding='UTF-8', index=False)\n",
    "df.to_csv(f'../data/interim/job_offers_{datetime.date.today()}.csv', sep=';', encoding='UTF-8', index=False)"
   ],
   "metadata": {
    "collapsed": false
   }
  },
  {
   "cell_type": "code",
   "execution_count": null,
   "outputs": [],
   "source": [],
   "metadata": {
    "collapsed": false
   }
  }
 ],
 "metadata": {
  "kernelspec": {
   "display_name": "Python 3",
   "language": "python",
   "name": "python3"
  },
  "language_info": {
   "codemirror_mode": {
    "name": "ipython",
    "version": 2
   },
   "file_extension": ".py",
   "mimetype": "text/x-python",
   "name": "python",
   "nbconvert_exporter": "python",
   "pygments_lexer": "ipython2",
   "version": "2.7.6"
  }
 },
 "nbformat": 4,
 "nbformat_minor": 0
}
