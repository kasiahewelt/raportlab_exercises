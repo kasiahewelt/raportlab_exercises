{
 "cells": [
  {
   "cell_type": "code",
   "execution_count": 1,
   "metadata": {
    "collapsed": true
   },
   "outputs": [],
   "source": [
    "# importujemy wymagane biblioteki\n",
    "from time import sleep\n",
    "from datetime import datetime\n",
    "global browser\n",
    "# global browser to instrukcja używana w Pythonie, która wskazuje, że zmienna browser, na którą się odwołujemy, jest zmienną globalną, a nie lokalną zdefiniowaną w bieżącej funkcji. Pozwala to na dostęp i modyfikację zmiennej przez inne funkcje w programie.\n",
    "# global browser to coś, co mówimy do komputera, aby powiedzieć mu, że chcemy używać tej samej rzeczy w różnych miejscach w naszym programie."
   ]
  },
  {
   "cell_type": "code",
   "execution_count": 2,
   "outputs": [],
   "source": [
    "driver_path='/Users/katarzynahewelt/Desktop/raportlab_exercises/WARSZTAT/drivers/chromedriver'"
   ],
   "metadata": {
    "collapsed": false
   }
  },
  {
   "cell_type": "code",
   "execution_count": null,
   "outputs": [],
   "source": [
    "# zanim opakujemy w funcje -> DEMO\n",
    "\n",
    "from selenium.webdriver import Chrome\n",
    "from selenium.webdriver.chrome.service import Service as ChromeService\n",
    "from bs4 import BeautifulSoup\n",
    "\n",
    "job_name = 'engineer'\n",
    "page_number = 1\n",
    "\n",
    "# Inicjalizacja przeglądarki Chrome\n",
    "service = ChromeService(driver_path)\n",
    "browser = Chrome(service=service)\n",
    "# Utworzenie adresu URL dla strony\n",
    "url = f'https://nofluffjobs.com/pl/jobs/?criteria=keyword%3D\"{job_name}\"&page={page_number}'\n",
    "browser.get(url)\n",
    "# Pobranie kodu HTML\n",
    "html = browser.page_source\n",
    "# Parsowanie kodu HTML przy pomocy BeautifulSoup\n",
    "soup = BeautifulSoup(html, 'html.parser')\n",
    "# Zamknięcie przeglądarki\n",
    "browser.quit()\n",
    "# Przykładowe wyświetlenie pobranej zawartości strony\n",
    "print(soup.prettify())\n"
   ],
   "metadata": {
    "collapsed": false,
    "pycharm": {
     "is_executing": true
    }
   }
  },
  {
   "cell_type": "code",
   "execution_count": null,
   "outputs": [],
   "source": [
    "def download_page(page_number: int, job_name: str) -> BeautifulSoup:\n",
    "    \"\"\"\n",
    "    Wchodzi na stronę oraz pobiera jej całkowitą zawartość\n",
    "    \"\"\"\n",
    "\n",
    "    url = 'https://nofluffjobs.com/pl/jobs/?criteria=keyword%3D\"{job_name}\"&page={page_number}'\n",
    "\n",
    "    browser.get(url.format(\n",
    "        job_name=job_name,\n",
    "        page_number=page_number)\n",
    "        )\n",
    "    html = browser.page_source\n",
    "\n",
    "    return BeautifulSoup(html)\n",
    "\n",
    "#################################################\n",
    "\n",
    "def is_empty_page(page) -> bool:\n",
    "    \"\"\"\n",
    "    Sprawdza czy strona jest pusta\n",
    "    \"\"\"\n",
    "    no_page_selector = \"h2> span.ng-star-inserted\"\n",
    "\n",
    "    empty_condition = page.select_one(no_page_selector)\n",
    "\n",
    "    if empty_condition is None:\n",
    "        return True\n",
    "    else:\n",
    "        return False\n",
    "\n",
    "#################################################\n",
    "\n",
    "def get_job_offers(job_name: str) -> list:\n",
    "    \"\"\"\n",
    "    Pobiera aktualnie dostępne oferty pracy dla danego zapytania\n",
    "\n",
    "    @param job_name: zapytanie, które chcemy przeszukać\n",
    "    @returns: lista ze słownikiem {page - numer strony, job - stanowisko, html - oryginalny html strony}\n",
    "    \"\"\"\n",
    "\n",
    "    results = []  # zmienna informacjami o stronach\n",
    "    page_number = 1\n",
    "\n",
    "    # będziemy wykonywać pętle tak długo, aż nie trafimy na pustą stronę\n",
    "    while True:\n",
    "        # pobieramy dane dla danego zawodu oraz strony\n",
    "        bs = download_page(\n",
    "            job_name=job_name,\n",
    "            page_number=page_number)\n",
    "\n",
    "        # sprawdzamy czy strona nie jest pusta\n",
    "        if is_empty_page(bs):\n",
    "            break\n",
    "\n",
    "        # pobieramy informacje o ofertach pracy\n",
    "        results.append({'page': page_number, 'job': job_name, 'html': str(bs)})\n",
    "\n",
    "        page_number += 1  # przechodzimy do kolejnej strony\n",
    "        sleep(5)  # czekamy 5 sekund przed kolejnym odpytaniem\n",
    "\n",
    "    return results"
   ],
   "metadata": {
    "collapsed": false,
    "pycharm": {
     "is_executing": true
    }
   }
  },
  {
   "cell_type": "code",
   "execution_count": null,
   "outputs": [],
   "source": [
    "jobs = ['data analyst', 'data scientist', 'data engineer']"
   ],
   "metadata": {
    "collapsed": false,
    "pycharm": {
     "is_executing": true
    }
   }
  },
  {
   "cell_type": "code",
   "execution_count": null,
   "outputs": [],
   "source": [
    "service = ChromeService(driver_path)\n",
    "browser = Chrome(service=service)\n",
    "browser.implicitly_wait(10)\n",
    "\n",
    "# pobieramy dostępne informacje o zawodach\n",
    "data = []\n",
    "for job in jobs:\n",
    "    data += get_job_offers(job)\n",
    "browser.close()"
   ],
   "metadata": {
    "collapsed": false,
    "pycharm": {
     "is_executing": true
    }
   }
  },
  {
   "cell_type": "code",
   "execution_count": 7,
   "outputs": [],
   "source": [
    "dt = datetime.now().strftime(\"%Y%m%d_%H%M%S\")\n",
    "for d in data:\n",
    "    with open(\n",
    "        '../data/raw/{job_name}_{page}.html'.format(\n",
    "            job_name=d['job'],\n",
    "            page=d['page'],\n",
    "            ),\n",
    "        encoding='UTF-8',\n",
    "        mode='w') as f:\n",
    "        f.write(d['html'])"
   ],
   "metadata": {
    "collapsed": false
   }
  },
  {
   "cell_type": "code",
   "execution_count": null,
   "outputs": [],
   "source": [],
   "metadata": {
    "collapsed": false
   }
  }
 ],
 "metadata": {
  "kernelspec": {
   "display_name": "Python 3",
   "language": "python",
   "name": "python3"
  },
  "language_info": {
   "codemirror_mode": {
    "name": "ipython",
    "version": 2
   },
   "file_extension": ".py",
   "mimetype": "text/x-python",
   "name": "python",
   "nbconvert_exporter": "python",
   "pygments_lexer": "ipython2",
   "version": "2.7.6"
  }
 },
 "nbformat": 4,
 "nbformat_minor": 0
}
