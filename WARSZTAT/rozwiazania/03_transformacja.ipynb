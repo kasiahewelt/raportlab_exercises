{
 "cells": [
  {
   "cell_type": "code",
   "execution_count": 1,
   "metadata": {
    "collapsed": true
   },
   "outputs": [],
   "source": [
    "import pandas as pd\n",
    "import re"
   ]
  },
  {
   "cell_type": "code",
   "execution_count": 2,
   "outputs": [
    {
     "data": {
      "text/plain": "                                   name                    company technology  \\\n0                         Data Engineer               Ramp Network   BigQuery   \n1                  Senior Data Engineer  Acaisoft Poland Sp. z.o.o     Python   \n2        Big Data Engineering Tech Lead             P2 Recruitment     Python   \n3   Remote - Senior Azure Data Engineer         Infosys Consulting      Azure   \n4  Databricks Data Engineer with Python           AXA IT Solutions     Python   \n\n  location_city  salary_low  salary_high salary_currency  \n0      Warszawa       12000        19000             PLN  \n1   ('Zdalna',)       26000        31000             PLN  \n2   ('Zdalna',)       18000        30000             PLN  \n3   ('Zdalna',)       20000        32000             PLN  \n4      Warszawa       26880        34440             PLN  ",
      "text/html": "<div>\n<style scoped>\n    .dataframe tbody tr th:only-of-type {\n        vertical-align: middle;\n    }\n\n    .dataframe tbody tr th {\n        vertical-align: top;\n    }\n\n    .dataframe thead th {\n        text-align: right;\n    }\n</style>\n<table border=\"1\" class=\"dataframe\">\n  <thead>\n    <tr style=\"text-align: right;\">\n      <th></th>\n      <th>name</th>\n      <th>company</th>\n      <th>technology</th>\n      <th>location_city</th>\n      <th>salary_low</th>\n      <th>salary_high</th>\n      <th>salary_currency</th>\n    </tr>\n  </thead>\n  <tbody>\n    <tr>\n      <th>0</th>\n      <td>Data Engineer</td>\n      <td>Ramp Network</td>\n      <td>BigQuery</td>\n      <td>Warszawa</td>\n      <td>12000</td>\n      <td>19000</td>\n      <td>PLN</td>\n    </tr>\n    <tr>\n      <th>1</th>\n      <td>Senior Data Engineer</td>\n      <td>Acaisoft Poland Sp. z.o.o</td>\n      <td>Python</td>\n      <td>('Zdalna',)</td>\n      <td>26000</td>\n      <td>31000</td>\n      <td>PLN</td>\n    </tr>\n    <tr>\n      <th>2</th>\n      <td>Big Data Engineering Tech Lead</td>\n      <td>P2 Recruitment</td>\n      <td>Python</td>\n      <td>('Zdalna',)</td>\n      <td>18000</td>\n      <td>30000</td>\n      <td>PLN</td>\n    </tr>\n    <tr>\n      <th>3</th>\n      <td>Remote - Senior Azure Data Engineer</td>\n      <td>Infosys Consulting</td>\n      <td>Azure</td>\n      <td>('Zdalna',)</td>\n      <td>20000</td>\n      <td>32000</td>\n      <td>PLN</td>\n    </tr>\n    <tr>\n      <th>4</th>\n      <td>Databricks Data Engineer with Python</td>\n      <td>AXA IT Solutions</td>\n      <td>Python</td>\n      <td>Warszawa</td>\n      <td>26880</td>\n      <td>34440</td>\n      <td>PLN</td>\n    </tr>\n  </tbody>\n</table>\n</div>"
     },
     "execution_count": 2,
     "metadata": {},
     "output_type": "execute_result"
    }
   ],
   "source": [
    "df_raw = pd.read_csv(\n",
    "    '../data/interim/job_offers_2023-03-06.csv',\n",
    "    sep=';',\n",
    "    encoding='UTF-8'\n",
    ")\n",
    "df_raw.head()"
   ],
   "metadata": {
    "collapsed": false
   }
  },
  {
   "cell_type": "code",
   "execution_count": 3,
   "outputs": [],
   "source": [
    "df = df_raw.copy()"
   ],
   "metadata": {
    "collapsed": false
   }
  },
  {
   "cell_type": "code",
   "execution_count": 4,
   "outputs": [
    {
     "data": {
      "text/plain": "Empty DataFrame\nColumns: [name, company, technology, location_city, salary_low, salary_high, salary_currency]\nIndex: []",
      "text/html": "<div>\n<style scoped>\n    .dataframe tbody tr th:only-of-type {\n        vertical-align: middle;\n    }\n\n    .dataframe tbody tr th {\n        vertical-align: top;\n    }\n\n    .dataframe thead th {\n        text-align: right;\n    }\n</style>\n<table border=\"1\" class=\"dataframe\">\n  <thead>\n    <tr style=\"text-align: right;\">\n      <th></th>\n      <th>name</th>\n      <th>company</th>\n      <th>technology</th>\n      <th>location_city</th>\n      <th>salary_low</th>\n      <th>salary_high</th>\n      <th>salary_currency</th>\n    </tr>\n  </thead>\n  <tbody>\n  </tbody>\n</table>\n</div>"
     },
     "execution_count": 4,
     "metadata": {},
     "output_type": "execute_result"
    }
   ],
   "source": [
    "df[df['salary_currency']!='PLN']"
   ],
   "metadata": {
    "collapsed": false
   }
  },
  {
   "cell_type": "code",
   "execution_count": 5,
   "outputs": [],
   "source": [
    "df = df.loc[df['salary_currency'] == 'PLN']\n",
    "df['name'] = df['name'].str.lower()\n",
    "df['location_city'] = df['location_city'].str.lower()"
   ],
   "metadata": {
    "collapsed": false
   }
  },
  {
   "cell_type": "code",
   "execution_count": 6,
   "outputs": [],
   "source": [
    "# srednia z kolumn salary\n",
    "df['salary_avg'] = (df['salary_low'] + df['salary_high'])/2"
   ],
   "metadata": {
    "collapsed": false
   }
  },
  {
   "cell_type": "code",
   "execution_count": 9,
   "outputs": [
    {
     "data": {
      "text/plain": "array(['warszawa', \"('zdalna',)\", 'poznań', 'kraków'], dtype=object)"
     },
     "execution_count": 9,
     "metadata": {},
     "output_type": "execute_result"
    }
   ],
   "source": [
    "df['location_city'].unique()"
   ],
   "metadata": {
    "collapsed": false
   }
  },
  {
   "cell_type": "code",
   "execution_count": 15,
   "outputs": [],
   "source": [
    "df.loc[df['location_city'].isin(['warsaw', 'warszawa']), 'location_city'] = 'warszawa'\n",
    "df.loc[df['location_city'].isin(['gdańsk', 'gdansk']), 'location_city'] = 'gdańsk'\n"
   ],
   "metadata": {
    "collapsed": false
   }
  },
  {
   "cell_type": "code",
   "execution_count": 16,
   "outputs": [],
   "source": [
    "df['is_senior'] = df['name'].str.contains('senior', case=False, regex=True).astype(int)"
   ],
   "metadata": {
    "collapsed": false
   }
  },
  {
   "cell_type": "code",
   "execution_count": 17,
   "outputs": [
    {
     "data": {
      "text/plain": "                                    name                    company  \\\n0                          data engineer               Ramp Network   \n1                   senior data engineer  Acaisoft Poland Sp. z.o.o   \n2         big data engineering tech lead             P2 Recruitment   \n3    remote - senior azure data engineer         Infosys Consulting   \n4   databricks data engineer with python           AXA IT Solutions   \n5   senior big data engineer - data & ai                    Allegro   \n6          senior data engineer (golang)           Bayer Sp. z o.o.   \n7           senior data engineer (kafka)            Sigma IT Poland   \n8                          data engineer                      Roche   \n9              data engineer with python            Sigma IT Poland   \n10              data engineer with scala                 GFT Poland   \n11    junior/mid data engineer (biotech)            Sigma IT Poland   \n12        data scientist / data engineer       vonRoll Infratec.com   \n13           data engineer (allegro pay)                    Allegro   \n14           senior performance engineer                      Cribl   \n15       remote mid/senior data engineer          CSHARK Sp. z o.o.   \n16     software engineer -data platforms          Adform Sp. z o.o.   \n17              remote mid data engineer   Operator Chmury Krajowej   \n18          software engineer (big data)          Adform Sp. z o.o.   \n19                     big data engineer              Grid Dynamics   \n\n    technology location_city  salary_low  salary_high salary_currency  \\\n0     BigQuery      warszawa       12000        19000             PLN   \n1       Python   ('zdalna',)       26000        31000             PLN   \n2       Python   ('zdalna',)       18000        30000             PLN   \n3        Azure   ('zdalna',)       20000        32000             PLN   \n4       Python      warszawa       26880        34440             PLN   \n5        Scala        poznań       16100        23200             PLN   \n6       Golang      warszawa       20000        26000             PLN   \n7       Python   ('zdalna',)       23500        28500             PLN   \n8       Python        poznań       16000        21000             PLN   \n9       Python   ('zdalna',)       22000        26880             PLN   \n10       Scala   ('zdalna',)       18480        26880             PLN   \n11      Python   ('zdalna',)       18000        25000             PLN   \n12      Python        kraków       20000        26000             PLN   \n13         NaN      warszawa       12300        17600             PLN   \n14  JavaScript   ('zdalna',)       16666        29166             PLN   \n15      Python   ('zdalna',)       24000        30000             PLN   \n16       Scala      warszawa       17136        25200             PLN   \n17         SQL   ('zdalna',)       10000        14000             PLN   \n18       Scala      warszawa       17136        25200             PLN   \n19       Scala   ('zdalna',)       21000        37000             PLN   \n\n    salary_avg  is_senior  \n0      15500.0          0  \n1      28500.0          1  \n2      24000.0          0  \n3      26000.0          1  \n4      30660.0          0  \n5      19650.0          1  \n6      23000.0          1  \n7      26000.0          1  \n8      18500.0          0  \n9      24440.0          0  \n10     22680.0          0  \n11     21500.0          0  \n12     23000.0          0  \n13     14950.0          0  \n14     22916.0          1  \n15     27000.0          1  \n16     21168.0          0  \n17     12000.0          0  \n18     21168.0          0  \n19     29000.0          0  ",
      "text/html": "<div>\n<style scoped>\n    .dataframe tbody tr th:only-of-type {\n        vertical-align: middle;\n    }\n\n    .dataframe tbody tr th {\n        vertical-align: top;\n    }\n\n    .dataframe thead th {\n        text-align: right;\n    }\n</style>\n<table border=\"1\" class=\"dataframe\">\n  <thead>\n    <tr style=\"text-align: right;\">\n      <th></th>\n      <th>name</th>\n      <th>company</th>\n      <th>technology</th>\n      <th>location_city</th>\n      <th>salary_low</th>\n      <th>salary_high</th>\n      <th>salary_currency</th>\n      <th>salary_avg</th>\n      <th>is_senior</th>\n    </tr>\n  </thead>\n  <tbody>\n    <tr>\n      <th>0</th>\n      <td>data engineer</td>\n      <td>Ramp Network</td>\n      <td>BigQuery</td>\n      <td>warszawa</td>\n      <td>12000</td>\n      <td>19000</td>\n      <td>PLN</td>\n      <td>15500.0</td>\n      <td>0</td>\n    </tr>\n    <tr>\n      <th>1</th>\n      <td>senior data engineer</td>\n      <td>Acaisoft Poland Sp. z.o.o</td>\n      <td>Python</td>\n      <td>('zdalna',)</td>\n      <td>26000</td>\n      <td>31000</td>\n      <td>PLN</td>\n      <td>28500.0</td>\n      <td>1</td>\n    </tr>\n    <tr>\n      <th>2</th>\n      <td>big data engineering tech lead</td>\n      <td>P2 Recruitment</td>\n      <td>Python</td>\n      <td>('zdalna',)</td>\n      <td>18000</td>\n      <td>30000</td>\n      <td>PLN</td>\n      <td>24000.0</td>\n      <td>0</td>\n    </tr>\n    <tr>\n      <th>3</th>\n      <td>remote - senior azure data engineer</td>\n      <td>Infosys Consulting</td>\n      <td>Azure</td>\n      <td>('zdalna',)</td>\n      <td>20000</td>\n      <td>32000</td>\n      <td>PLN</td>\n      <td>26000.0</td>\n      <td>1</td>\n    </tr>\n    <tr>\n      <th>4</th>\n      <td>databricks data engineer with python</td>\n      <td>AXA IT Solutions</td>\n      <td>Python</td>\n      <td>warszawa</td>\n      <td>26880</td>\n      <td>34440</td>\n      <td>PLN</td>\n      <td>30660.0</td>\n      <td>0</td>\n    </tr>\n    <tr>\n      <th>5</th>\n      <td>senior big data engineer - data &amp; ai</td>\n      <td>Allegro</td>\n      <td>Scala</td>\n      <td>poznań</td>\n      <td>16100</td>\n      <td>23200</td>\n      <td>PLN</td>\n      <td>19650.0</td>\n      <td>1</td>\n    </tr>\n    <tr>\n      <th>6</th>\n      <td>senior data engineer (golang)</td>\n      <td>Bayer Sp. z o.o.</td>\n      <td>Golang</td>\n      <td>warszawa</td>\n      <td>20000</td>\n      <td>26000</td>\n      <td>PLN</td>\n      <td>23000.0</td>\n      <td>1</td>\n    </tr>\n    <tr>\n      <th>7</th>\n      <td>senior data engineer (kafka)</td>\n      <td>Sigma IT Poland</td>\n      <td>Python</td>\n      <td>('zdalna',)</td>\n      <td>23500</td>\n      <td>28500</td>\n      <td>PLN</td>\n      <td>26000.0</td>\n      <td>1</td>\n    </tr>\n    <tr>\n      <th>8</th>\n      <td>data engineer</td>\n      <td>Roche</td>\n      <td>Python</td>\n      <td>poznań</td>\n      <td>16000</td>\n      <td>21000</td>\n      <td>PLN</td>\n      <td>18500.0</td>\n      <td>0</td>\n    </tr>\n    <tr>\n      <th>9</th>\n      <td>data engineer with python</td>\n      <td>Sigma IT Poland</td>\n      <td>Python</td>\n      <td>('zdalna',)</td>\n      <td>22000</td>\n      <td>26880</td>\n      <td>PLN</td>\n      <td>24440.0</td>\n      <td>0</td>\n    </tr>\n    <tr>\n      <th>10</th>\n      <td>data engineer with scala</td>\n      <td>GFT Poland</td>\n      <td>Scala</td>\n      <td>('zdalna',)</td>\n      <td>18480</td>\n      <td>26880</td>\n      <td>PLN</td>\n      <td>22680.0</td>\n      <td>0</td>\n    </tr>\n    <tr>\n      <th>11</th>\n      <td>junior/mid data engineer (biotech)</td>\n      <td>Sigma IT Poland</td>\n      <td>Python</td>\n      <td>('zdalna',)</td>\n      <td>18000</td>\n      <td>25000</td>\n      <td>PLN</td>\n      <td>21500.0</td>\n      <td>0</td>\n    </tr>\n    <tr>\n      <th>12</th>\n      <td>data scientist / data engineer</td>\n      <td>vonRoll Infratec.com</td>\n      <td>Python</td>\n      <td>kraków</td>\n      <td>20000</td>\n      <td>26000</td>\n      <td>PLN</td>\n      <td>23000.0</td>\n      <td>0</td>\n    </tr>\n    <tr>\n      <th>13</th>\n      <td>data engineer (allegro pay)</td>\n      <td>Allegro</td>\n      <td>NaN</td>\n      <td>warszawa</td>\n      <td>12300</td>\n      <td>17600</td>\n      <td>PLN</td>\n      <td>14950.0</td>\n      <td>0</td>\n    </tr>\n    <tr>\n      <th>14</th>\n      <td>senior performance engineer</td>\n      <td>Cribl</td>\n      <td>JavaScript</td>\n      <td>('zdalna',)</td>\n      <td>16666</td>\n      <td>29166</td>\n      <td>PLN</td>\n      <td>22916.0</td>\n      <td>1</td>\n    </tr>\n    <tr>\n      <th>15</th>\n      <td>remote mid/senior data engineer</td>\n      <td>CSHARK Sp. z o.o.</td>\n      <td>Python</td>\n      <td>('zdalna',)</td>\n      <td>24000</td>\n      <td>30000</td>\n      <td>PLN</td>\n      <td>27000.0</td>\n      <td>1</td>\n    </tr>\n    <tr>\n      <th>16</th>\n      <td>software engineer -data platforms</td>\n      <td>Adform Sp. z o.o.</td>\n      <td>Scala</td>\n      <td>warszawa</td>\n      <td>17136</td>\n      <td>25200</td>\n      <td>PLN</td>\n      <td>21168.0</td>\n      <td>0</td>\n    </tr>\n    <tr>\n      <th>17</th>\n      <td>remote mid data engineer</td>\n      <td>Operator Chmury Krajowej</td>\n      <td>SQL</td>\n      <td>('zdalna',)</td>\n      <td>10000</td>\n      <td>14000</td>\n      <td>PLN</td>\n      <td>12000.0</td>\n      <td>0</td>\n    </tr>\n    <tr>\n      <th>18</th>\n      <td>software engineer (big data)</td>\n      <td>Adform Sp. z o.o.</td>\n      <td>Scala</td>\n      <td>warszawa</td>\n      <td>17136</td>\n      <td>25200</td>\n      <td>PLN</td>\n      <td>21168.0</td>\n      <td>0</td>\n    </tr>\n    <tr>\n      <th>19</th>\n      <td>big data engineer</td>\n      <td>Grid Dynamics</td>\n      <td>Scala</td>\n      <td>('zdalna',)</td>\n      <td>21000</td>\n      <td>37000</td>\n      <td>PLN</td>\n      <td>29000.0</td>\n      <td>0</td>\n    </tr>\n  </tbody>\n</table>\n</div>"
     },
     "execution_count": 17,
     "metadata": {},
     "output_type": "execute_result"
    }
   ],
   "source": [
    "df"
   ],
   "metadata": {
    "collapsed": false
   }
  },
  {
   "cell_type": "code",
   "execution_count": 18,
   "outputs": [],
   "source": [
    "df.to_csv('../data/processed/job_offers.csv',\n",
    "    sep=';',\n",
    "    encoding='UTF-8',\n",
    "    index=False)"
   ],
   "metadata": {
    "collapsed": false
   }
  },
  {
   "cell_type": "code",
   "execution_count": null,
   "outputs": [],
   "source": [],
   "metadata": {
    "collapsed": false
   }
  }
 ],
 "metadata": {
  "kernelspec": {
   "display_name": "Python 3",
   "language": "python",
   "name": "python3"
  },
  "language_info": {
   "codemirror_mode": {
    "name": "ipython",
    "version": 2
   },
   "file_extension": ".py",
   "mimetype": "text/x-python",
   "name": "python",
   "nbconvert_exporter": "python",
   "pygments_lexer": "ipython2",
   "version": "2.7.6"
  }
 },
 "nbformat": 4,
 "nbformat_minor": 0
}
